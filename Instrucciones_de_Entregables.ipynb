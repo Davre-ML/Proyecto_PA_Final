{
  "nbformat": 4,
  "nbformat_minor": 0,
  "metadata": {
    "colab": {
      "provenance": [],
      "authorship_tag": "ABX9TyPo1zWlgG+ygxLVYI3vwSuX",
      "include_colab_link": true
    },
    "kernelspec": {
      "name": "python3",
      "display_name": "Python 3"
    },
    "language_info": {
      "name": "python"
    }
  },
  "cells": [
    {
      "cell_type": "markdown",
      "metadata": {
        "id": "view-in-github",
        "colab_type": "text"
      },
      "source": [
        "<a href=\"https://colab.research.google.com/github/Davre-ML/Proyecto_PA_Final/blob/main/Instrucciones_de_Entregables.ipynb\" target=\"_parent\"><img src=\"https://colab.research.google.com/assets/colab-badge.svg\" alt=\"Open In Colab\"/></a>"
      ]
    },
    {
      "cell_type": "markdown",
      "source": [
        "# Proyecto Final\n",
        "## Proyacto elegido: \"StudentOverflow\"\n",
        "### Descripción del proyecto:\n",
        "Portal web que permitirá que un usuario haga una pregunta de materia para que los demás usuarios de la plataforma puedan ayudarla o ayudarlo. Esta plataforma está inspirada en StackOverflow, el portal de preguntas y respuestas más utilizado en el mundo por desarrolladores y desarrolladoras de software.\n"
      ],
      "metadata": {
        "id": "HnXWJXSoqyTw"
      }
    },
    {
      "cell_type": "markdown",
      "source": [
        "## CheckPoints\n",
        "### CheckPoint 1: Prototipo y estructura inicial\n",
        "**Entregable 1**: Un documento PDF que contenta el prototipo de todas las vistas o pantallas que integrarán el sistema.\n",
        "\n",
        "(maybe el proyecto en Figma?)\n",
        "\n",
        "**Entregable 2**: Publicar la liga de su repositorio público en Github el cual debe contener la estructura inicial del proyecto, archivo README y archivo requirements.txt\n",
        "*   Estuctura del proyecto\n",
        "*   Archivo README\n",
        "*   Requirements.txt\n",
        "\n",
        "### CheckPoint 2: Diseño inicial de la base de datos y flujos de usuario\n",
        "\n",
        "**Entregable 1**: Esquema entidad-relación de la base de datos que utilizará la aplicación. Este esquema deberá subirse en la plataforma en el apartado indicado, y adicionalmente, se deberá subir al repositorio en una carpeta llamada “documentation/db”.\n",
        "\n",
        "* Un esquema de la base de datos para darles una idea de las formas de conectar sus bases relacionales\n",
        "\n",
        "\n",
        "**Entregable 2**: Diagramas de flujo de los distintos casos de uso que los usuarios podrán ejecutar en la plataforma. Estos diagramas deberán deberán subir al repositorio sin comprimirse en carpeta.\n",
        "\n",
        "* Diagramas de flujo que los usuarios posiblemente harían, es decir, una predicción sobre lo que los usuarios harán en cadena\n",
        "\n",
        "### CheckPoint 3: Desarrollo de landing page, login y sign up\n",
        "\n",
        "**Entregable 1:** Los estudiantes deberán tomar capturas de las siguientes vistas:\n",
        "* Pagina de inicio para usuarios *sin sesión iniciada*\n",
        "* Pagina de inicio para usuarios *con sesión iniciada*\n",
        "* Inicio de sesión\n",
        "* Registro de usuario (Nuevos usuarios)\n",
        "\n",
        "**Entregable 2:** Grabación de pantalla que muestre el flujo completo de cómo un usuario puede navegar en la plataforma hasta este punto\n",
        "\n",
        "* Hasta este punto se refiere a iniciar sesión, registrarse y poder llegar a la pagina principal  ????\n",
        "\n",
        "\n",
        "###Entregable 4: Implementación de autentificación y autorización\n",
        "\n",
        "**Entregable 1:** Grabación de pantalla que muestre el flujo completo de un usuario registrandose en la plataforma\n",
        "\n",
        "**Entregable 2:** Grabación de pantalla que muestre el flujo completo de un usuario iniciando sesión en la plataforma.\n",
        "\n",
        "**Entregable 3:** Grabación de pantalla que muestre la persistencia de la sesión del usuario.\n",
        "\n",
        "###Entregable 5: Implementación de la página inicial de la aplicación\n",
        "**Entregable 1:** Capturas de pantalla de la página inicial de la aplicación mostrando el contenido dinámico basado en la sesión del usuario.\n",
        "\n",
        "**Entregable 2:** Video demostrativo que muestre la interacción y funcionalidad principal de la página inicial, destacando cómo cambia en función de la sesión del usuario.\n",
        "\n",
        "\n",
        "###**Todas las evidencias deberán de ir en una carpeta llamada Entregables**\n",
        "También, en tu archivo README deberás agregar las paqueterías necesarias para ejecutar tu proyecto, así como los comandos para ejecutarlo"
      ],
      "metadata": {
        "id": "2LbiGrsRrU5l"
      }
    },
    {
      "cell_type": "markdown",
      "source": [],
      "metadata": {
        "id": "JvUV7jpjrrJH"
      }
    }
  ]
}